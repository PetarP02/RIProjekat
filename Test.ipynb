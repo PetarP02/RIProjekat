{
 "cells": [
  {
   "cell_type": "code",
   "execution_count": 1,
   "id": "37cd3750-fb6d-4cdf-b83e-1ce00a32926a",
   "metadata": {},
   "outputs": [],
   "source": [
    "from GeneticAlg import GenProg\n",
    "import matplotlib.pyplot as plt\n",
    "import numpy as np\n",
    "import math\n",
    "\n",
    "from sklearn.preprocessing import MinMaxScaler\n",
    "import pandas as pd"
   ]
  },
  {
   "cell_type": "code",
   "execution_count": 2,
   "id": "dac155b8-2606-43d6-a444-438a2db5e316",
   "metadata": {},
   "outputs": [
    {
     "data": {
      "text/html": [
       "<div>\n",
       "<style scoped>\n",
       "    .dataframe tbody tr th:only-of-type {\n",
       "        vertical-align: middle;\n",
       "    }\n",
       "\n",
       "    .dataframe tbody tr th {\n",
       "        vertical-align: top;\n",
       "    }\n",
       "\n",
       "    .dataframe thead th {\n",
       "        text-align: right;\n",
       "    }\n",
       "</style>\n",
       "<table border=\"1\" class=\"dataframe\">\n",
       "  <thead>\n",
       "    <tr style=\"text-align: right;\">\n",
       "      <th></th>\n",
       "      <th>Employee</th>\n",
       "      <th>Salary</th>\n",
       "      <th>Gender</th>\n",
       "      <th>Age</th>\n",
       "      <th>Experience</th>\n",
       "      <th>Training</th>\n",
       "    </tr>\n",
       "  </thead>\n",
       "  <tbody>\n",
       "    <tr>\n",
       "      <th>0</th>\n",
       "      <td>1</td>\n",
       "      <td>0.217689</td>\n",
       "      <td>F</td>\n",
       "      <td>42</td>\n",
       "      <td>3</td>\n",
       "      <td>B</td>\n",
       "    </tr>\n",
       "    <tr>\n",
       "      <th>1</th>\n",
       "      <td>2</td>\n",
       "      <td>0.757334</td>\n",
       "      <td>M</td>\n",
       "      <td>54</td>\n",
       "      <td>10</td>\n",
       "      <td>B</td>\n",
       "    </tr>\n",
       "    <tr>\n",
       "      <th>2</th>\n",
       "      <td>3</td>\n",
       "      <td>0.745610</td>\n",
       "      <td>M</td>\n",
       "      <td>47</td>\n",
       "      <td>10</td>\n",
       "      <td>A</td>\n",
       "    </tr>\n",
       "    <tr>\n",
       "      <th>3</th>\n",
       "      <td>4</td>\n",
       "      <td>0.763792</td>\n",
       "      <td>M</td>\n",
       "      <td>47</td>\n",
       "      <td>1</td>\n",
       "      <td>B</td>\n",
       "    </tr>\n",
       "    <tr>\n",
       "      <th>4</th>\n",
       "      <td>5</td>\n",
       "      <td>0.690624</td>\n",
       "      <td>M</td>\n",
       "      <td>44</td>\n",
       "      <td>5</td>\n",
       "      <td>B</td>\n",
       "    </tr>\n",
       "  </tbody>\n",
       "</table>\n",
       "</div>"
      ],
      "text/plain": [
       "   Employee    Salary Gender  Age    Experience Training\n",
       "0         1  0.217689      F   42             3        B\n",
       "1         2  0.757334      M   54            10        B\n",
       "2         3  0.745610      M   47            10        A\n",
       "3         4  0.763792      M   47             1        B\n",
       "4         5  0.690624      M   44             5        B"
      ]
     },
     "execution_count": 2,
     "metadata": {},
     "output_type": "execute_result"
    }
   ],
   "source": [
    "dataEmployee = pd.read_csv('EmployeeText.csv')\n",
    "numeric_colsEmp = ['Salary']\n",
    "dataEmployee[numeric_colsEmp] = MinMaxScaler().fit_transform(dataEmployee[numeric_colsEmp])\n",
    "dataEmployee.head()"
   ]
  },
  {
   "cell_type": "code",
   "execution_count": 3,
   "id": "49224186-461c-447e-a51f-a71a18407e27",
   "metadata": {},
   "outputs": [],
   "source": [
    "varEmployee = [['Experience', 'Salary']]\n",
    "for i in range(len(dataEmployee)):\n",
    "    varEmployee.append([dataEmployee['  Experience'][i], dataEmployee['Salary'][i]])"
   ]
  },
  {
   "cell_type": "code",
   "execution_count": 4,
   "id": "361265d5-7a82-44a8-9ad2-61a514bb7f61",
   "metadata": {},
   "outputs": [
    {
     "name": "stdout",
     "output_type": "stream",
     "text": [
      "0 : 2.1109999579493888e-06 s\n"
     ]
    },
    {
     "name": "stderr",
     "output_type": "stream",
     "text": [
      "/home/petar/Documents/MATF/Semestar7/RI/Projekat/RIProjekat/node.py:62: RuntimeWarning: divide by zero encountered in scalar divide\n",
      "  '/' : lambda x, y: (x) / (y),\n",
      "/home/petar/Documents/MATF/Semestar7/RI/Projekat/RIProjekat/node.py:62: RuntimeWarning: invalid value encountered in scalar divide\n",
      "  '/' : lambda x, y: (x) / (y),\n",
      "/home/petar/Documents/MATF/Semestar7/RI/Projekat/RIProjekat/node.py:62: RuntimeWarning: invalid value encountered in divide\n",
      "  '/' : lambda x, y: (x) / (y),\n",
      "/home/petar/Documents/MATF/Semestar7/RI/Projekat/RIProjekat/node.py:63: RuntimeWarning: divide by zero encountered in power\n",
      "  '**' : lambda x, y: (math.copysign(abs(x**y), x)\n",
      "/home/petar/Documents/MATF/Semestar7/RI/Projekat/RIProjekat/node.py:63: RuntimeWarning: overflow encountered in power\n",
      "  '**' : lambda x, y: (math.copysign(abs(x**y), x)\n",
      "/home/petar/Documents/MATF/Semestar7/RI/Projekat/RIProjekat/node.py:62: RuntimeWarning: divide by zero encountered in divide\n",
      "  '/' : lambda x, y: (x) / (y),\n",
      "/home/petar/Documents/MATF/Semestar7/RI/Projekat/RIProjekat/node.py:61: RuntimeWarning: invalid value encountered in scalar multiply\n",
      "  '*' : lambda x, y: (x) * (y),\n",
      "/home/petar/Documents/MATF/Semestar7/RI/Projekat/RIProjekat/node.py:63: RuntimeWarning: invalid value encountered in scalar power\n",
      "  '**' : lambda x, y: (math.copysign(abs(x**y), x)\n",
      "/home/petar/Documents/MATF/Semestar7/RI/Projekat/RIProjekat/genome.py:152: RuntimeWarning: overflow encountered in scalar power\n",
      "  self.geneError += (values[i][-1] - self.test[i][-1])**2\n",
      "/home/petar/Documents/MATF/Semestar7/RI/Projekat/RIProjekat/node.py:63: RuntimeWarning: invalid value encountered in power\n",
      "  '**' : lambda x, y: (math.copysign(abs(x**y), x)\n",
      "/home/petar/Documents/MATF/Semestar7/RI/Projekat/RIProjekat/node.py:63: RuntimeWarning: divide by zero encountered in scalar power\n",
      "  '**' : lambda x, y: (math.copysign(abs(x**y), x)\n",
      "/home/petar/Documents/MATF/Semestar7/RI/Projekat/RIProjekat/node.py:63: RuntimeWarning: overflow encountered in scalar power\n",
      "  '**' : lambda x, y: (math.copysign(abs(x**y), x)\n",
      "/home/petar/Documents/MATF/Semestar7/RI/Projekat/RIProjekat/node.py:61: RuntimeWarning: invalid value encountered in multiply\n",
      "  '*' : lambda x, y: (x) * (y),\n"
     ]
    },
    {
     "name": "stdout",
     "output_type": "stream",
     "text": [
      "100 : 7.09935521800071 s\n",
      "200 : 14.38143223499992 s\n",
      "300 : 21.603323500999977 s\n"
     ]
    },
    {
     "name": "stderr",
     "output_type": "stream",
     "text": [
      "/home/petar/Documents/MATF/Semestar7/RI/Projekat/RIProjekat/node.py:60: RuntimeWarning: invalid value encountered in scalar subtract\n",
      "  '-' : lambda x, y: (x) - (y),\n"
     ]
    },
    {
     "name": "stdout",
     "output_type": "stream",
     "text": [
      "400 : 28.418448202000036 s\n",
      "elapse time :  35.166700 s \n",
      "solution: ((cos(0.6070573090615533) + (Experience * 0.13002743044609066)) * (0.13002743044609066 * 2.718281828459045)) \n",
      "fitness: 0.05394942198845698\n"
     ]
    }
   ],
   "source": [
    "genP = GenProg(test=varEmployee, variables=varEmployee[0][:-1], populationSize=100, \n",
    "               treeDepth=4, elitism=2, mutationChance=0.2, epochs=500, error=1e-3)\n",
    "genEvEmpl = genP.findSolution()"
   ]
  },
  {
   "cell_type": "code",
   "execution_count": 5,
   "id": "80d38800-8654-45ed-901e-5d06f4d670d0",
   "metadata": {},
   "outputs": [
    {
     "data": {
      "image/png": "[encoded data removed]",
      "text/plain": [
       "<Figure size 640x480 with 1 Axes>"
      ]
     },
     "metadata": {},
     "output_type": "display_data"
    }
   ],
   "source": [
    "varX = [v[0] for v in varEmployee[1:]]\n",
    "varY = [v[1] for v in varEmployee[1:]]\n",
    "\n",
    "axisX = [['Experience']]\n",
    "for n in np.linspace(min(varX), max(varX), 100):\n",
    "    axisX.append([n])\n",
    "\n",
    "bestGeneValues = [n[-1] for n in genP.bestFit.gene.valueCalcVar(axisX)[1:]]\n",
    "\n",
    "\n",
    "plt.scatter(varX, varY)\n",
    "plt.plot(axisX[1:], bestGeneValues, c = 'red')\n",
    "\n",
    "plt.show()"
   ]
  },
  {
   "cell_type": "code",
   "execution_count": 6,
   "id": "3dcfee61-f65f-4c01-96e7-c9aa1e50e60d",
   "metadata": {},
   "outputs": [
    {
     "data": {
      "image/png": "[encoded data removed]",
      "text/plain": [
       "<Figure size 640x480 with 1 Axes>"
      ]
     },
     "metadata": {},
     "output_type": "display_data"
    }
   ],
   "source": [
    "plt.plot(np.linspace(0, len(genEvEmpl), 500), genEvEmpl)\n",
    "plt.show()"
   ]
  },
  {
   "cell_type": "code",
   "execution_count": 7,
   "id": "c801fd98-6c84-4c15-b96b-359cf3bc7e32",
   "metadata": {},
   "outputs": [
    {
     "data": {
      "text/html": [
       "<div>\n",
       "<style scoped>\n",
       "    .dataframe tbody tr th:only-of-type {\n",
       "        vertical-align: middle;\n",
       "    }\n",
       "\n",
       "    .dataframe tbody tr th {\n",
       "        vertical-align: top;\n",
       "    }\n",
       "\n",
       "    .dataframe thead th {\n",
       "        text-align: right;\n",
       "    }\n",
       "</style>\n",
       "<table border=\"1\" class=\"dataframe\">\n",
       "  <thead>\n",
       "    <tr style=\"text-align: right;\">\n",
       "      <th></th>\n",
       "      <th>Make</th>\n",
       "      <th>Model</th>\n",
       "      <th>Type</th>\n",
       "      <th>Origin</th>\n",
       "      <th>DriveTrain</th>\n",
       "      <th>MSRP</th>\n",
       "      <th>Invoice</th>\n",
       "      <th>EngineSize</th>\n",
       "      <th>Cylinders</th>\n",
       "      <th>Horsepower</th>\n",
       "      <th>MPG_City</th>\n",
       "      <th>MPG_Highway</th>\n",
       "      <th>Weight</th>\n",
       "      <th>Wheelbase</th>\n",
       "      <th>Length</th>\n",
       "    </tr>\n",
       "  </thead>\n",
       "  <tbody>\n",
       "    <tr>\n",
       "      <th>0</th>\n",
       "      <td>Acura</td>\n",
       "      <td>MDX</td>\n",
       "      <td>SUV</td>\n",
       "      <td>Asia</td>\n",
       "      <td>All</td>\n",
       "      <td>36945.0</td>\n",
       "      <td>33337.0</td>\n",
       "      <td>0.314286</td>\n",
       "      <td>6.0</td>\n",
       "      <td>0.449649</td>\n",
       "      <td>17.0</td>\n",
       "      <td>23.0</td>\n",
       "      <td>0.487079</td>\n",
       "      <td>106.0</td>\n",
       "      <td>189.0</td>\n",
       "    </tr>\n",
       "    <tr>\n",
       "      <th>1</th>\n",
       "      <td>Acura</td>\n",
       "      <td>RSX Type S 2dr</td>\n",
       "      <td>Sedan</td>\n",
       "      <td>Asia</td>\n",
       "      <td>Front</td>\n",
       "      <td>23820.0</td>\n",
       "      <td>21761.0</td>\n",
       "      <td>0.100000</td>\n",
       "      <td>4.0</td>\n",
       "      <td>0.297424</td>\n",
       "      <td>24.0</td>\n",
       "      <td>31.0</td>\n",
       "      <td>0.173783</td>\n",
       "      <td>101.0</td>\n",
       "      <td>172.0</td>\n",
       "    </tr>\n",
       "    <tr>\n",
       "      <th>2</th>\n",
       "      <td>Acura</td>\n",
       "      <td>TSX 4dr</td>\n",
       "      <td>Sedan</td>\n",
       "      <td>Asia</td>\n",
       "      <td>Front</td>\n",
       "      <td>26990.0</td>\n",
       "      <td>24647.0</td>\n",
       "      <td>0.157143</td>\n",
       "      <td>4.0</td>\n",
       "      <td>0.297424</td>\n",
       "      <td>22.0</td>\n",
       "      <td>29.0</td>\n",
       "      <td>0.258427</td>\n",
       "      <td>105.0</td>\n",
       "      <td>183.0</td>\n",
       "    </tr>\n",
       "    <tr>\n",
       "      <th>3</th>\n",
       "      <td>Acura</td>\n",
       "      <td>TL 4dr</td>\n",
       "      <td>Sedan</td>\n",
       "      <td>Asia</td>\n",
       "      <td>Front</td>\n",
       "      <td>33195.0</td>\n",
       "      <td>30299.0</td>\n",
       "      <td>0.271429</td>\n",
       "      <td>6.0</td>\n",
       "      <td>0.461358</td>\n",
       "      <td>20.0</td>\n",
       "      <td>28.0</td>\n",
       "      <td>0.323034</td>\n",
       "      <td>108.0</td>\n",
       "      <td>186.0</td>\n",
       "    </tr>\n",
       "    <tr>\n",
       "      <th>4</th>\n",
       "      <td>Acura</td>\n",
       "      <td>3.5 RL 4dr</td>\n",
       "      <td>Sedan</td>\n",
       "      <td>Asia</td>\n",
       "      <td>Front</td>\n",
       "      <td>43755.0</td>\n",
       "      <td>39014.0</td>\n",
       "      <td>0.314286</td>\n",
       "      <td>6.0</td>\n",
       "      <td>0.355972</td>\n",
       "      <td>18.0</td>\n",
       "      <td>24.0</td>\n",
       "      <td>0.380150</td>\n",
       "      <td>115.0</td>\n",
       "      <td>197.0</td>\n",
       "    </tr>\n",
       "  </tbody>\n",
       "</table>\n",
       "</div>"
      ],
      "text/plain": [
       "    Make           Model   Type Origin DriveTrain     MSRP  Invoice  \\\n",
       "0  Acura             MDX    SUV   Asia        All  36945.0  33337.0   \n",
       "1  Acura  RSX Type S 2dr  Sedan   Asia      Front  23820.0  21761.0   \n",
       "2  Acura         TSX 4dr  Sedan   Asia      Front  26990.0  24647.0   \n",
       "3  Acura          TL 4dr  Sedan   Asia      Front  33195.0  30299.0   \n",
       "4  Acura      3.5 RL 4dr  Sedan   Asia      Front  43755.0  39014.0   \n",
       "\n",
       "   EngineSize  Cylinders  Horsepower  MPG_City  MPG_Highway    Weight  \\\n",
       "0    0.314286        6.0    0.449649      17.0         23.0  0.487079   \n",
       "1    0.100000        4.0    0.297424      24.0         31.0  0.173783   \n",
       "2    0.157143        4.0    0.297424      22.0         29.0  0.258427   \n",
       "3    0.271429        6.0    0.461358      20.0         28.0  0.323034   \n",
       "4    0.314286        6.0    0.355972      18.0         24.0  0.380150   \n",
       "\n",
       "   Wheelbase  Length  \n",
       "0      106.0   189.0  \n",
       "1      101.0   172.0  \n",
       "2      105.0   183.0  \n",
       "3      108.0   186.0  \n",
       "4      115.0   197.0  "
      ]
     },
     "execution_count": 7,
     "metadata": {},
     "output_type": "execute_result"
    }
   ],
   "source": [
    "data = pd.read_csv('cars.csv')\n",
    "numeric_cols = ['EngineSize', 'Weight', 'Horsepower']\n",
    "data[numeric_cols] = MinMaxScaler().fit_transform(data[numeric_cols])\n",
    "data.head()"
   ]
  },
  {
   "cell_type": "code",
   "execution_count": 8,
   "id": "6df9af71-0a19-4de9-8bd5-23bcc22d96a0",
   "metadata": {},
   "outputs": [],
   "source": [
    "varData = [['Weight', 'Horsepower']]\n",
    "\n",
    "for i in range(len(data)):\n",
    "    varData.append([data['Weight'][i], data['Horsepower'][i]])"
   ]
  },
  {
   "cell_type": "code",
   "execution_count": 9,
   "id": "f41f08ce-e5cf-48b7-8daa-65904cfaeed8",
   "metadata": {},
   "outputs": [
    {
     "name": "stdout",
     "output_type": "stream",
     "text": [
      "0 : 2.0529996618279256e-06 s\n"
     ]
    },
    {
     "name": "stderr",
     "output_type": "stream",
     "text": [
      "/home/petar/Documents/MATF/Semestar7/RI/Projekat/RIProjekat/node.py:62: RuntimeWarning: divide by zero encountered in scalar divide\n",
      "  '/' : lambda x, y: (x) / (y),\n",
      "/home/petar/Documents/MATF/Semestar7/RI/Projekat/RIProjekat/node.py:62: RuntimeWarning: invalid value encountered in scalar divide\n",
      "  '/' : lambda x, y: (x) / (y),\n",
      "/home/petar/Documents/MATF/Semestar7/RI/Projekat/RIProjekat/node.py:63: RuntimeWarning: divide by zero encountered in scalar power\n",
      "  '**' : lambda x, y: (math.copysign(abs(x**y), x)\n",
      "/home/petar/Documents/MATF/Semestar7/RI/Projekat/RIProjekat/node.py:63: RuntimeWarning: invalid value encountered in scalar power\n",
      "  '**' : lambda x, y: (math.copysign(abs(x**y), x)\n",
      "/home/petar/Documents/MATF/Semestar7/RI/Projekat/RIProjekat/node.py:61: RuntimeWarning: invalid value encountered in scalar multiply\n",
      "  '*' : lambda x, y: (x) * (y),\n"
     ]
    },
    {
     "name": "stdout",
     "output_type": "stream",
     "text": [
      "100 : 20.372004232999643 s\n",
      "200 : 40.60262875099943 s\n",
      "300 : 60.742975215000115 s\n",
      "400 : 82.04245406999962 s\n",
      "elapse time :  102.362576 s \n",
      "solution: ((Weight ** 0.8842207343772674) * cos(Weight)) \n",
      "fitness: 0.015860287347622133\n"
     ]
    }
   ],
   "source": [
    "carsGenP = GenProg(test=varData, variables=varData[0][:-1], populationSize=100, treeDepth=3, elitism=2, mutationChance=0.2, epochs=500, error=1e-3)\n",
    "genEvCar = carsGenP.findSolution()"
   ]
  },
  {
   "cell_type": "code",
   "execution_count": 10,
   "id": "d4e3d978-fb31-425e-8b88-9f799ea66a34",
   "metadata": {},
   "outputs": [
    {
     "data": {
      "image/png": "[encoded data removed]",
      "text/plain": [
       "<Figure size 640x480 with 1 Axes>"
      ]
     },
     "metadata": {},
     "output_type": "display_data"
    }
   ],
   "source": [
    "xCars = [v[0] for v in varData[1:]]\n",
    "yCars = [v[1] for v in varData[1:]]\n",
    "\n",
    "Xosa = [['Weight']]\n",
    "for n in np.linspace(min(xCars), max(xCars), 100):\n",
    "    Xosa.append([n])\n",
    "\n",
    "carPredictions = [n[-1] for n in carsGenP.bestFit.gene.valueCalcVar(Xosa)[1:]]\n",
    "\n",
    "plt.scatter(xCars, yCars)\n",
    "plt.plot(Xosa[1:], carPredictions, c = 'red')\n",
    "\n",
    "plt.show()"
   ]
  },
  {
   "cell_type": "code",
   "execution_count": 11,
   "id": "0d230e80-563d-4209-be8c-b415189def19",
   "metadata": {},
   "outputs": [
    {
     "data": {
      "image/png": "[encoded data removed]",
      "text/plain": [
       "<Figure size 640x480 with 1 Axes>"
      ]
     },
     "metadata": {},
     "output_type": "display_data"
    }
   ],
   "source": [
    "plt.plot(np.linspace(0, 500, 500), genEvCar)\n",
    "plt.show()"
   ]
  },
  {
   "cell_type": "code",
   "execution_count": null,
   "id": "8588c3c8-a327-45bb-88ad-2fd3cc2c479d",
   "metadata": {},
   "outputs": [],
   "source": []
  }
 ],
 "metadata": {
  "kernelspec": {
   "display_name": "Python 3 (ipykernel)",
   "language": "python",
   "name": "python3"
  },
  "language_info": {
   "codemirror_mode": {
    "name": "ipython",
    "version": 3
   },
   "file_extension": ".py",
   "mimetype": "text/x-python",
   "name": "python",
   "nbconvert_exporter": "python",
   "pygments_lexer": "ipython3",
   "version": "3.12.7"
  }
 },
 "nbformat": 4,
 "nbformat_minor": 5
}
