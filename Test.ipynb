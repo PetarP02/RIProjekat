{
 "cells": [
  {
   "cell_type": "code",
   "execution_count": 1,
   "id": "37cd3750-fb6d-4cdf-b83e-1ce00a32926a",
   "metadata": {},
   "outputs": [],
   "source": [
    "from GeneticAlg import GenProg\n",
    "import matplotlib.pyplot as plt\n",
    "import numpy as np\n",
    "import math"
   ]
  },
  {
   "cell_type": "code",
   "execution_count": 2,
   "id": "dac155b8-2606-43d6-a444-438a2db5e316",
   "metadata": {},
   "outputs": [],
   "source": [
    "var = [['Y_OfExp', 'Payment'], \n",
    "[1.4000000000000001, 46206.0],\n",
    "[1.6, 37732.0],\n",
    "[2.1, 43526.0],\n",
    "[2.3000000000000003, 39892.0],\n",
    "[3.0, 56643.0],\n",
    "[3.1, 60151.0],\n",
    "[3.3000000000000003, 54446.0],\n",
    "[3.3000000000000003, 64446.0],\n",
    "[3.8000000000000003, 57190.0],\n",
    "[4.0, 63219.0],\n",
    "[4.1, 55795.0],\n",
    "[4.1, 56958.0],\n",
    "[4.199999999999999, 57082.0],\n",
    "[4.6, 61112.0],\n",
    "[5.0, 67939.0],\n",
    "[5.199999999999999, 66030.0],\n",
    "[5.3999999999999995, 83089.0],\n",
    "[6.0, 81364.0],\n",
    "[6.1, 93941.0],\n",
    "[6.8999999999999995, 91739.0],\n",
    "[7.199999999999999, 98274.0],\n",
    "[8.0, 101303.0],\n",
    "[8.299999999999999, 113813.0],\n",
    "[8.799999999999999, 109432.0],\n",
    "[9.1, 105583.0],\n",
    "[9.6, 116970.0],\n",
    "[9.7, 112636.0],\n",
    "[10.4, 122392.0],\n",
    "[10.6, 121873.0]]\n",
    "maxPay = max([n[1] for n in var[1:]])\n",
    "for i in range(1, len(var)):\n",
    "    var[i][1] = var[i][1]/maxPay"
   ]
  },
  {
   "cell_type": "code",
   "execution_count": 3,
   "id": "361265d5-7a82-44a8-9ad2-61a514bb7f61",
   "metadata": {},
   "outputs": [
    {
     "name": "stdout",
     "output_type": "stream",
     "text": [
      "0 : 2.1880000531382393e-06 s\n",
      "100 : 3.6096993579999435 s\n",
      "200 : 7.81025511200005 s\n",
      "300 : 11.846735147000118 s\n",
      "400 : 15.807202749999988 s\n",
      "elapse time :  19.888636 s \n",
      "solution: ((((Y_OfExp + 0.24640642005203517) - 0.5997075501757004) ** 0.5997075501757004) * 0.24640642005203517) \n",
      "fitness: 0.0029043376014295783\n"
     ]
    }
   ],
   "source": [
    "genP = GenProg(test=var, variables=var[0][:-1], populationSize=100, treeDepth=4, elitism=3, mutationChance=0.2, epochs=500, error=1e-3)\n",
    "_ = genP.findSolution()"
   ]
  },
  {
   "cell_type": "code",
   "execution_count": 4,
   "id": "80d38800-8654-45ed-901e-5d06f4d670d0",
   "metadata": {},
   "outputs": [
    {
     "data": {
      "image/png": "[encoded data removed]",
      "text/plain": [
       "<Figure size 640x480 with 1 Axes>"
      ]
     },
     "metadata": {},
     "output_type": "display_data"
    }
   ],
   "source": [
    "varX = [v[0] for v in var[1:]]\n",
    "varY = [v[1] for v in var[1:]]\n",
    "\n",
    "axisX = [['Y_OfExp']]\n",
    "for n in np.linspace(min(varX), max(varX), 100):\n",
    "    axisX.append([n])\n",
    "\n",
    "bestGeneValues = [n[-1] for n in genP.bestFit.gene.valueCalcVar(axisX)[1:]]\n",
    "\n",
    "\n",
    "plt.scatter(varX, varY)\n",
    "plt.plot(axisX[1:], bestGeneValues, c = 'red')\n",
    "\n",
    "plt.show()"
   ]
  },
  {
   "cell_type": "code",
   "execution_count": 5,
   "id": "9f15cf54-e34a-498c-845d-a139f317b02d",
   "metadata": {},
   "outputs": [],
   "source": [
    "from sklearn.preprocessing import MinMaxScaler\n",
    "import pandas as pd"
   ]
  },
  {
   "cell_type": "code",
   "execution_count": 6,
   "id": "c801fd98-6c84-4c15-b96b-359cf3bc7e32",
   "metadata": {},
   "outputs": [
    {
     "data": {
      "text/html": [
       "<div>\n",
       "<style scoped>\n",
       "    .dataframe tbody tr th:only-of-type {\n",
       "        vertical-align: middle;\n",
       "    }\n",
       "\n",
       "    .dataframe tbody tr th {\n",
       "        vertical-align: top;\n",
       "    }\n",
       "\n",
       "    .dataframe thead th {\n",
       "        text-align: right;\n",
       "    }\n",
       "</style>\n",
       "<table border=\"1\" class=\"dataframe\">\n",
       "  <thead>\n",
       "    <tr style=\"text-align: right;\">\n",
       "      <th></th>\n",
       "      <th>Car</th>\n",
       "      <th>Model</th>\n",
       "      <th>Volume</th>\n",
       "      <th>Weight</th>\n",
       "      <th>CO2</th>\n",
       "    </tr>\n",
       "  </thead>\n",
       "  <tbody>\n",
       "    <tr>\n",
       "      <th>0</th>\n",
       "      <td>Toyoty</td>\n",
       "      <td>Aygo</td>\n",
       "      <td>0.0625</td>\n",
       "      <td>0.000000</td>\n",
       "      <td>0.300000</td>\n",
       "    </tr>\n",
       "    <tr>\n",
       "      <th>1</th>\n",
       "      <td>Mitsubishi</td>\n",
       "      <td>Space Star</td>\n",
       "      <td>0.1875</td>\n",
       "      <td>0.387029</td>\n",
       "      <td>0.166667</td>\n",
       "    </tr>\n",
       "    <tr>\n",
       "      <th>2</th>\n",
       "      <td>Skoda</td>\n",
       "      <td>Citigo</td>\n",
       "      <td>0.0625</td>\n",
       "      <td>0.145397</td>\n",
       "      <td>0.166667</td>\n",
       "    </tr>\n",
       "    <tr>\n",
       "      <th>3</th>\n",
       "      <td>Fiat</td>\n",
       "      <td>500</td>\n",
       "      <td>0.0000</td>\n",
       "      <td>0.078452</td>\n",
       "      <td>0.000000</td>\n",
       "    </tr>\n",
       "    <tr>\n",
       "      <th>4</th>\n",
       "      <td>Mini</td>\n",
       "      <td>Cooper</td>\n",
       "      <td>0.3750</td>\n",
       "      <td>0.366109</td>\n",
       "      <td>0.500000</td>\n",
       "    </tr>\n",
       "  </tbody>\n",
       "</table>\n",
       "</div>"
      ],
      "text/plain": [
       "          Car       Model  Volume    Weight       CO2\n",
       "0      Toyoty        Aygo  0.0625  0.000000  0.300000\n",
       "1  Mitsubishi  Space Star  0.1875  0.387029  0.166667\n",
       "2       Skoda      Citigo  0.0625  0.145397  0.166667\n",
       "3        Fiat         500  0.0000  0.078452  0.000000\n",
       "4        Mini      Cooper  0.3750  0.366109  0.500000"
      ]
     },
     "execution_count": 6,
     "metadata": {},
     "output_type": "execute_result"
    }
   ],
   "source": [
    "data = pd.read_csv('data.csv')\n",
    "numeric_cols = ['Volume', 'Weight', 'CO2']\n",
    "data[numeric_cols] = MinMaxScaler().fit_transform(data[numeric_cols])\n",
    "data.head()"
   ]
  },
  {
   "cell_type": "code",
   "execution_count": 7,
   "id": "6df9af71-0a19-4de9-8bd5-23bcc22d96a0",
   "metadata": {},
   "outputs": [],
   "source": [
    "varData = [['Volume', 'Weight', 'Co2Emmision']]\n",
    "\n",
    "for i in range(len(data)):\n",
    "    varData.append([data['Volume'][i], data['Weight'][i], data['CO2'][i]])"
   ]
  },
  {
   "cell_type": "code",
   "execution_count": 8,
   "id": "f41f08ce-e5cf-48b7-8daa-65904cfaeed8",
   "metadata": {},
   "outputs": [
    {
     "name": "stdout",
     "output_type": "stream",
     "text": [
      "0 : 5.854999926668825e-06 s\n"
     ]
    },
    {
     "name": "stderr",
     "output_type": "stream",
     "text": [
      "/home/petar/Documents/MATF/Semestar7/RI/Projekat/RIProjekat/node.py:62: RuntimeWarning: divide by zero encountered in scalar divide\n",
      "  '/' : lambda x, y: (x) / (y),\n",
      "/home/petar/Documents/MATF/Semestar7/RI/Projekat/RIProjekat/node.py:63: RuntimeWarning: divide by zero encountered in scalar power\n",
      "  '**' : lambda x, y: (math.copysign(abs(x**y), x)\n",
      "/home/petar/Documents/MATF/Semestar7/RI/Projekat/RIProjekat/node.py:63: RuntimeWarning: invalid value encountered in scalar power\n",
      "  '**' : lambda x, y: (math.copysign(abs(x**y), x)\n",
      "/home/petar/Documents/MATF/Semestar7/RI/Projekat/RIProjekat/node.py:62: RuntimeWarning: invalid value encountered in scalar divide\n",
      "  '/' : lambda x, y: (x) / (y),\n",
      "/home/petar/Documents/MATF/Semestar7/RI/Projekat/RIProjekat/node.py:61: RuntimeWarning: invalid value encountered in scalar multiply\n",
      "  '*' : lambda x, y: (x) * (y),\n"
     ]
    },
    {
     "name": "stdout",
     "output_type": "stream",
     "text": [
      "100 : 5.808758708999903 s\n",
      "200 : 10.880243463999932 s\n"
     ]
    },
    {
     "name": "stderr",
     "output_type": "stream",
     "text": [
      "/home/petar/Documents/MATF/Semestar7/RI/Projekat/RIProjekat/genome.py:152: RuntimeWarning: overflow encountered in scalar power\n",
      "  self.geneError += (values[i][-1] - self.test[i][-1])**2\n",
      "/home/petar/Documents/MATF/Semestar7/RI/Projekat/RIProjekat/node.py:63: RuntimeWarning: overflow encountered in scalar power\n",
      "  '**' : lambda x, y: (math.copysign(abs(x**y), x)\n"
     ]
    },
    {
     "name": "stdout",
     "output_type": "stream",
     "text": [
      "300 : 16.35245209499999 s\n",
      "400 : 21.934930082999927 s\n",
      "elapse time :  27.636991 s \n",
      "solution: ((Weight * (0.14507349465436836 ** (0.9321758396829414 - Volume))) + 0.14507349465436836) \n",
      "fitness: 0.029889009949658343\n"
     ]
    }
   ],
   "source": [
    "carsGenP = GenProg(test=varData, variables=varData[0][:-1], populationSize=100, treeDepth=3, elitism=5, mutationChance=0.2, epochs=500, error=1e-3)\n",
    "_ = carsGenP.findSolution()"
   ]
  },
  {
   "cell_type": "code",
   "execution_count": 9,
   "id": "d4e3d978-fb31-425e-8b88-9f799ea66a34",
   "metadata": {},
   "outputs": [],
   "source": [
    "# xCars = [v[0] for v in varData[1:]]\n",
    "# yCars = [v[1] for v in varData[1:]]\n",
    "\n",
    "# Xosa = [['Weight']]\n",
    "# for n in np.linspace(min(xCars), max(xCars), 100):\n",
    "#     Xosa.append([n])\n",
    "\n",
    "# carPredictions = [n[-1] for n in carsGenP.bestFit.gene.valueCalcVar(Xosa)[1:]]\n",
    "\n",
    "# plt.scatter(xCars, yCars)\n",
    "# plt.plot(Xosa[1:], carPredictions, c = 'red')\n",
    "\n",
    "# plt.show()"
   ]
  },
  {
   "cell_type": "code",
   "execution_count": null,
   "id": "0d230e80-563d-4209-be8c-b415189def19",
   "metadata": {},
   "outputs": [],
   "source": []
  }
 ],
 "metadata": {
  "kernelspec": {
   "display_name": "Python 3 (ipykernel)",
   "language": "python",
   "name": "python3"
  },
  "language_info": {
   "codemirror_mode": {
    "name": "ipython",
    "version": 3
   },
   "file_extension": ".py",
   "mimetype": "text/x-python",
   "name": "python",
   "nbconvert_exporter": "python",
   "pygments_lexer": "ipython3",
   "version": "3.12.7"
  }
 },
 "nbformat": 4,
 "nbformat_minor": 5
}
