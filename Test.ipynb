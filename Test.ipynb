{
 "cells": [
  {
   "cell_type": "code",
   "execution_count": 1,
   "id": "37cd3750-fb6d-4cdf-b83e-1ce00a32926a",
   "metadata": {},
   "outputs": [],
   "source": [
    "from GeneticAlg import GenProg\n",
    "import matplotlib.pyplot as plt\n",
    "import numpy as np\n",
    "import math"
   ]
  },
  {
   "cell_type": "code",
   "execution_count": 2,
   "id": "dac155b8-2606-43d6-a444-438a2db5e316",
   "metadata": {},
   "outputs": [],
   "source": [
    "var = [['Y_OfExp', 'Payment'], \n",
    "[1.4000000000000001, 46206.0],\n",
    "[1.6, 37732.0],\n",
    "[2.1, 43526.0],\n",
    "[2.3000000000000003, 39892.0],\n",
    "[3.0, 56643.0],\n",
    "[3.1, 60151.0],\n",
    "[3.3000000000000003, 54446.0],\n",
    "[3.3000000000000003, 64446.0],\n",
    "[3.8000000000000003, 57190.0],\n",
    "[4.0, 63219.0],\n",
    "[4.1, 55795.0],\n",
    "[4.1, 56958.0],\n",
    "[4.199999999999999, 57082.0],\n",
    "[4.6, 61112.0],\n",
    "[5.0, 67939.0],\n",
    "[5.199999999999999, 66030.0],\n",
    "[5.3999999999999995, 83089.0],\n",
    "[6.0, 81364.0],\n",
    "[6.1, 93941.0],\n",
    "[6.8999999999999995, 91739.0],\n",
    "[7.199999999999999, 98274.0],\n",
    "[8.0, 101303.0],\n",
    "[8.299999999999999, 113813.0],\n",
    "[8.799999999999999, 109432.0],\n",
    "[9.1, 105583.0],\n",
    "[9.6, 116970.0],\n",
    "[9.7, 112636.0],\n",
    "[10.4, 122392.0],\n",
    "[10.6, 121873.0]]\n",
    "maxPay = max([n[1] for n in var[1:]])\n",
    "for i in range(1, len(var)):\n",
    "    var[i][1] = var[i][1]/maxPay"
   ]
  },
  {
   "cell_type": "code",
   "execution_count": null,
   "id": "361265d5-7a82-44a8-9ad2-61a514bb7f61",
   "metadata": {},
   "outputs": [
    {
     "name": "stdout",
     "output_type": "stream",
     "text": [
      "0 : 3.3880000955832656e-06 s\n",
      "100 : 7.7923611480000545 s\n",
      "200 : 16.174105656999927 s\n",
      "300 : 24.118405232999976 s\n",
      "400 : 31.41730003900011 s\n"
     ]
    }
   ],
   "source": [
    "genP = GenProg(var, var[0][:-1], 100, 3, 0.15, 500, error=1e-3)\n",
    "_ = genP.findSolution()"
   ]
  },
  {
   "cell_type": "code",
   "execution_count": null,
   "id": "80d38800-8654-45ed-901e-5d06f4d670d0",
   "metadata": {},
   "outputs": [],
   "source": [
    "varX = [v[0] for v in var[1:]]\n",
    "varY = [v[1] for v in var[1:]]\n",
    "\n",
    "axisX = [['Y_OfExp']]\n",
    "for n in np.linspace(min(varX), max(varX), 100):\n",
    "    axisX.append([n])\n",
    "\n",
    "bestGeneValues = [n[-1] for n in genP.bestFit.gene.valueCalcVar(axisX)[1:]]\n",
    "\n",
    "\n",
    "plt.scatter(varX, varY)\n",
    "plt.plot(axisX[1:], bestGeneValues, c = 'red')\n",
    "\n",
    "plt.show()"
   ]
  },
  {
   "cell_type": "code",
   "execution_count": null,
   "id": "296e035b-b7e1-4b56-931a-b5df3792e203",
   "metadata": {},
   "outputs": [],
   "source": [
    "def function1(x):\n",
    "    return x**2\n",
    "\n",
    "xaxis = np.linspace(-2, 2, 50)\n",
    "yaxis = [function1(n) for n in xaxis]\n",
    "\n",
    "varF1 = [['x', 'ExpectedValue']]\n",
    "for i, j in zip(xaxis, yaxis):\n",
    "    varF1.append([i, j])"
   ]
  },
  {
   "cell_type": "code",
   "execution_count": null,
   "id": "cb67f8cd-6d23-479e-b933-296b27c69d2d",
   "metadata": {},
   "outputs": [],
   "source": [
    "genP2 = GenProg(varF1, varF1[0][:-1], 100, 3, 0.15, 500, error=1e-3)\n",
    "_ = genP2.findSolution()"
   ]
  },
  {
   "cell_type": "code",
   "execution_count": null,
   "id": "5411b9f4-ec21-4767-af87-890cdd4b3230",
   "metadata": {},
   "outputs": [],
   "source": [
    "for n in np.linspace(-2, 2, 100):\n",
    "    axisX.append([n])\n",
    "\n",
    "bestGeneValues2 = [n[-1] for n in genP2.bestFit.gene.valueCalcVar(varF1)[1:]]\n",
    "\n",
    "\n",
    "plt.plot(xaxis, yaxis)\n",
    "plt.plot(xaxis, bestGeneValues2, c = 'red')\n",
    "\n",
    "plt.show()"
   ]
  },
  {
   "cell_type": "code",
   "execution_count": null,
   "id": "844d223b-512b-481e-988a-c16a977c44a1",
   "metadata": {},
   "outputs": [],
   "source": [
    "eval(f'float(\"nan\")+{2.3}')"
   ]
  },
  {
   "cell_type": "code",
   "execution_count": null,
   "id": "c3c4e336-3af9-4000-8a64-90f6559836a1",
   "metadata": {},
   "outputs": [],
   "source": []
  }
 ],
 "metadata": {
  "kernelspec": {
   "display_name": "Python 3 (ipykernel)",
   "language": "python",
   "name": "python3"
  },
  "language_info": {
   "codemirror_mode": {
    "name": "ipython",
    "version": 3
   },
   "file_extension": ".py",
   "mimetype": "text/x-python",
   "name": "python",
   "nbconvert_exporter": "python",
   "pygments_lexer": "ipython3",
   "version": "3.12.7"
  }
 },
 "nbformat": 4,
 "nbformat_minor": 5
}
